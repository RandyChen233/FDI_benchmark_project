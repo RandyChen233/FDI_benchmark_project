{
 "cells": [
  {
   "cell_type": "code",
   "execution_count": 1,
   "id": "a47a61cf-2b8f-44d8-9143-a81be51dfb97",
   "metadata": {},
   "outputs": [],
   "source": [
    "%load_ext autoreload\n",
    "%autoreload 2"
   ]
  },
  {
   "cell_type": "code",
   "execution_count": 2,
   "id": "76c0c288-57e5-40b8-a86b-25b4d41b55ed",
   "metadata": {
    "tags": []
   },
   "outputs": [],
   "source": [
    "import sys\n",
    "from pathlib import Path\n",
    "module_path = str(Path.cwd().parents[0])\n",
    "if module_path not in sys.path:\n",
    "    sys.path.append(module_path)\n",
    "\n",
    "import numpy as np\n",
    "\n",
    "from quovadis_tad.eval_simple_baselines import evaluate_simple_baselines_on_all_paper_datasets"
   ]
  },
  {
   "cell_type": "markdown",
   "id": "cea08463-b13f-4bde-ab14-77c1eda29f4e",
   "metadata": {},
   "source": [
    "# Evaluate the simple baselines\n",
    "In this notebook we run all our simple baselines on the datasets appearing in the paper. The main purpose of the notebook is reproducibility. If you want to use your own datasets, own methods and even combine them with ours, please look in the `simple_baselines_example_usage.ipynb` notebook for inspiration. "
   ]
  },
  {
   "cell_type": "code",
   "execution_count": 3,
   "id": "15efe816-31ee-45a0-98c7-238c84edc41c",
   "metadata": {},
   "outputs": [
    {
     "name": "stdout",
     "output_type": "stream",
     "text": [
      "C:\\Users\\jhaja\\OneDrive\\Desktop\\quovadis\\QuoVadisTAD\n"
     ]
    }
   ],
   "source": [
    "def highlight_max(s, props=''):\n",
    "    return np.where(s == np.nanmax(s.values), props, '')\n",
    "print(module_path)"
   ]
  },
  {
   "cell_type": "markdown",
   "id": "9d2a5ba9-7d63-43a3-96e1-d8a0b21778e3",
   "metadata": {},
   "source": [
    "## Evaluate on a single dataset\n",
    "Full evaluation on all datasets can take some time. One can first try running on a single dataset of interest to get some fast results. Below we have an example of evaluating the methods only on SWAT. On the first part, we apply it using the optimal score normalization and on the second part we return all such scores to check the impact of different normalization options."
   ]
  },
  {
   "cell_type": "markdown",
   "id": "01f9c559-fb31-4a52-a517-7ddd85986f1c",
   "metadata": {},
   "source": [
    "#### Optimal normalization"
   ]
  },
  {
   "cell_type": "code",
   "execution_count": 4,
   "id": "83248628-ed35-4f83-b70c-554e5fbb2d33",
   "metadata": {
    "scrolled": true
   },
   "outputs": [
    {
     "name": "stdout",
     "output_type": "stream",
     "text": [
      "Number of train files: 27\n",
      "Number of test files: 27\n",
      "Number of label files: 27\n"
     ]
    },
    {
     "ename": "KeyboardInterrupt",
     "evalue": "",
     "output_type": "error",
     "traceback": [
      "\u001b[1;31m---------------------------------------------------------------------------\u001b[0m",
      "\u001b[1;31mKeyboardInterrupt\u001b[0m                         Traceback (most recent call last)",
      "Cell \u001b[1;32mIn[4], line 1\u001b[0m\n\u001b[1;32m----> 1\u001b[0m df_std \u001b[38;5;241m=\u001b[39m \u001b[43mevaluate_simple_baselines_on_all_paper_datasets\u001b[49m\u001b[43m(\u001b[49m\n\u001b[0;32m      2\u001b[0m \u001b[43m    \u001b[49m\u001b[43mroot_path\u001b[49m\u001b[38;5;241;43m=\u001b[39;49m\u001b[43mmodule_path\u001b[49m\u001b[43m,\u001b[49m\n\u001b[0;32m      3\u001b[0m \u001b[43m    \u001b[49m\u001b[43mdataset_names\u001b[49m\u001b[38;5;241;43m=\u001b[39;49m\u001b[43m[\u001b[49m\u001b[38;5;124;43m'\u001b[39;49m\u001b[38;5;124;43mourBench\u001b[39;49m\u001b[38;5;124;43m'\u001b[39;49m\u001b[43m]\u001b[49m\u001b[43m,\u001b[49m\u001b[43m  \u001b[49m\u001b[38;5;66;43;03m# provide one or more dataset names e.g ['swat', 'wadi_127', 'wadi_112', 'smd', 'ucr_IB'], see dataset_reader enum.\u001b[39;49;00m\n\u001b[0;32m      4\u001b[0m \u001b[43m    \u001b[49m\u001b[43mdata_normalization\u001b[49m\u001b[38;5;241;43m=\u001b[39;49m\u001b[38;5;124;43m\"\u001b[39;49m\u001b[38;5;124;43m0-1\u001b[39;49m\u001b[38;5;124;43m\"\u001b[39;49m\u001b[43m,\u001b[49m\u001b[43m              \u001b[49m\n\u001b[0;32m      5\u001b[0m \u001b[43m    \u001b[49m\u001b[43meval_method\u001b[49m\u001b[38;5;241;43m=\u001b[39;49m\u001b[38;5;124;43m'\u001b[39;49m\u001b[38;5;124;43mpoint_wise\u001b[39;49m\u001b[38;5;124;43m'\u001b[39;49m\u001b[43m,\u001b[49m\n\u001b[0;32m      6\u001b[0m \u001b[43m    \u001b[49m\u001b[43mscore_normalization\u001b[49m\u001b[38;5;241;43m=\u001b[39;49m\u001b[38;5;124;43m'\u001b[39;49m\u001b[38;5;124;43moptimal\u001b[39;49m\u001b[38;5;124;43m'\u001b[39;49m\u001b[43m,\u001b[49m\u001b[43m  \u001b[49m\u001b[38;5;66;43;03m# Will only return the scores for the optimal score normalization method.\u001b[39;49;00m\n\u001b[0;32m      7\u001b[0m \u001b[43m    \u001b[49m\u001b[43mverbose\u001b[49m\u001b[38;5;241;43m=\u001b[39;49m\u001b[38;5;28;43;01mFalse\u001b[39;49;00m\n\u001b[0;32m      8\u001b[0m \u001b[43m)\u001b[49m\n",
      "File \u001b[1;32m~\\OneDrive\\Desktop\\quovadis\\QuoVadisTAD\\quovadis_tad\\eval_simple_baselines.py:59\u001b[0m, in \u001b[0;36mevaluate_simple_baselines_on_all_paper_datasets\u001b[1;34m(root_path, data_normalization, eval_method, score_normalization, dataset_names, verbose)\u001b[0m\n\u001b[0;32m     39\u001b[0m \u001b[38;5;250m\u001b[39m\u001b[38;5;124;03m'''\u001b[39;00m\n\u001b[0;32m     40\u001b[0m \u001b[38;5;124;03mmethods_dict = {\u001b[39;00m\n\u001b[0;32m     41\u001b[0m \u001b[38;5;124;03m    'Sensor Range Deviation': simple_baselines.SensorRangeDeviation(sensor_range=(0, 1)),\u001b[39;00m\n\u001b[1;32m   (...)\u001b[0m\n\u001b[0;32m     50\u001b[0m \u001b[38;5;124;03m}\u001b[39;00m\n\u001b[0;32m     51\u001b[0m \u001b[38;5;124;03m'''\u001b[39;00m\n\u001b[0;32m     52\u001b[0m methods_dict \u001b[38;5;241m=\u001b[39m {\n\u001b[0;32m     53\u001b[0m     \u001b[38;5;124m'\u001b[39m\u001b[38;5;124m1-NN Distance\u001b[39m\u001b[38;5;124m'\u001b[39m: simple_baselines_3D\u001b[38;5;241m.\u001b[39mNNDistance_3D(distance\u001b[38;5;241m=\u001b[39m\u001b[38;5;124m'\u001b[39m\u001b[38;5;124meuclidean\u001b[39m\u001b[38;5;124m'\u001b[39m),\n\u001b[0;32m     54\u001b[0m     \u001b[38;5;124m'\u001b[39m\u001b[38;5;124mSimple L2_norm\u001b[39m\u001b[38;5;124m'\u001b[39m: simple_baselines_3D\u001b[38;5;241m.\u001b[39mLNorm_3D(\u001b[38;5;28mord\u001b[39m\u001b[38;5;241m=\u001b[39m\u001b[38;5;241m2\u001b[39m),\n\u001b[0;32m     55\u001b[0m     \u001b[38;5;124m'\u001b[39m\u001b[38;5;124mRandom\u001b[39m\u001b[38;5;124m'\u001b[39m: simple_baselines_3D\u001b[38;5;241m.\u001b[39mRandom_3D(seed\u001b[38;5;241m=\u001b[39m\u001b[38;5;241m9001\u001b[39m)\n\u001b[0;32m     56\u001b[0m }\n\u001b[1;32m---> 59\u001b[0m \u001b[38;5;28;01mreturn\u001b[39;00m \u001b[43mevaluate_methods_on_datasets\u001b[49m\u001b[43m(\u001b[49m\n\u001b[0;32m     60\u001b[0m \u001b[43m    \u001b[49m\u001b[43mmethods\u001b[49m\u001b[38;5;241;43m=\u001b[39;49m\u001b[43mmethods_dict\u001b[49m\u001b[43m,\u001b[49m\n\u001b[0;32m     61\u001b[0m \u001b[43m    \u001b[49m\u001b[43mdatasets\u001b[49m\u001b[38;5;241;43m=\u001b[39;49m\u001b[43mdatasets_dict\u001b[49m\u001b[43m,\u001b[49m\n\u001b[0;32m     62\u001b[0m \u001b[43m    \u001b[49m\u001b[43mdata_normalization\u001b[49m\u001b[38;5;241;43m=\u001b[39;49m\u001b[43mdata_normalization\u001b[49m\u001b[43m,\u001b[49m\n\u001b[0;32m     63\u001b[0m \u001b[43m    \u001b[49m\u001b[43mscore_normalization\u001b[49m\u001b[38;5;241;43m=\u001b[39;49m\u001b[43mscore_normalization\u001b[49m\u001b[43m,\u001b[49m\n\u001b[0;32m     64\u001b[0m \u001b[43m    \u001b[49m\u001b[43meval_method\u001b[49m\u001b[38;5;241;43m=\u001b[39;49m\u001b[43meval_method\u001b[49m\u001b[43m,\u001b[49m\n\u001b[0;32m     65\u001b[0m \u001b[43m    \u001b[49m\u001b[43mverbose\u001b[49m\u001b[38;5;241;43m=\u001b[39;49m\u001b[43mverbose\u001b[49m\n\u001b[0;32m     66\u001b[0m \u001b[43m\u001b[49m\u001b[43m)\u001b[49m\n",
      "File \u001b[1;32m~\\OneDrive\\Desktop\\quovadis\\QuoVadisTAD\\quovadis_tad\\evaluation\\evaluation.py:270\u001b[0m, in \u001b[0;36mevaluate_methods_on_datasets\u001b[1;34m(methods, datasets, data_normalization, score_normalization, eval_method, verbose)\u001b[0m\n\u001b[0;32m    267\u001b[0m train \u001b[38;5;241m=\u001b[39m data[\u001b[38;5;124m'\u001b[39m\u001b[38;5;124mtrain\u001b[39m\u001b[38;5;124m'\u001b[39m]\n\u001b[0;32m    268\u001b[0m series_are_split_in_traces \u001b[38;5;241m=\u001b[39m \u001b[38;5;28mtype\u001b[39m(train) \u001b[38;5;129;01mis\u001b[39;00m \u001b[38;5;28mlist\u001b[39m\n\u001b[1;32m--> 270\u001b[0m scores \u001b[38;5;241m=\u001b[39m \u001b[43mevaluate_methods_on_dataset_or_traces\u001b[49m\u001b[43m(\u001b[49m\n\u001b[0;32m    271\u001b[0m \u001b[43m    \u001b[49m\u001b[43mmethods\u001b[49m\u001b[38;5;241;43m=\u001b[39;49m\u001b[43mmethods\u001b[49m\u001b[43m,\u001b[49m\n\u001b[0;32m    272\u001b[0m \u001b[43m    \u001b[49m\u001b[43mdata\u001b[49m\u001b[38;5;241;43m=\u001b[39;49m\u001b[43mdata\u001b[49m\u001b[43m,\u001b[49m\n\u001b[0;32m    273\u001b[0m \u001b[43m    \u001b[49m\u001b[43mdata_normalization\u001b[49m\u001b[38;5;241;43m=\u001b[39;49m\u001b[43mdata_normalization\u001b[49m\u001b[43m,\u001b[49m\n\u001b[0;32m    274\u001b[0m \u001b[43m    \u001b[49m\u001b[43mscore_normalization\u001b[49m\u001b[38;5;241;43m=\u001b[39;49m\u001b[43mscore_normalization\u001b[49m\u001b[43m,\u001b[49m\n\u001b[0;32m    275\u001b[0m \u001b[43m    \u001b[49m\u001b[43meval_method\u001b[49m\u001b[38;5;241;43m=\u001b[39;49m\u001b[43meval_method\u001b[49m\u001b[43m,\u001b[49m\n\u001b[0;32m    276\u001b[0m \u001b[43m    \u001b[49m\u001b[43mseries_are_split_in_traces\u001b[49m\u001b[38;5;241;43m=\u001b[39;49m\u001b[43mseries_are_split_in_traces\u001b[49m\u001b[43m,\u001b[49m\n\u001b[0;32m    277\u001b[0m \u001b[43m    \u001b[49m\u001b[43mverbose\u001b[49m\u001b[38;5;241;43m=\u001b[39;49m\u001b[43mverbose\u001b[49m\n\u001b[0;32m    278\u001b[0m \u001b[43m\u001b[49m\u001b[43m)\u001b[49m\n\u001b[0;32m    280\u001b[0m multi_col \u001b[38;5;241m=\u001b[39m [(name, col) \u001b[38;5;28;01mfor\u001b[39;00m col \u001b[38;5;129;01min\u001b[39;00m scores\u001b[38;5;241m.\u001b[39mcolumns]\n\u001b[0;32m    281\u001b[0m scores\u001b[38;5;241m.\u001b[39mcolumns \u001b[38;5;241m=\u001b[39m pd\u001b[38;5;241m.\u001b[39mMultiIndex\u001b[38;5;241m.\u001b[39mfrom_tuples(multi_col)\n",
      "File \u001b[1;32m~\\OneDrive\\Desktop\\quovadis\\QuoVadisTAD\\quovadis_tad\\evaluation\\evaluation.py:144\u001b[0m, in \u001b[0;36mevaluate_methods_on_dataset_or_traces\u001b[1;34m(methods, data, data_normalization, score_normalization, eval_method, series_are_split_in_traces, verbose)\u001b[0m\n\u001b[0;32m    134\u001b[0m     train, _, test \u001b[38;5;241m=\u001b[39m preprocess_data_3D(\n\u001b[0;32m    135\u001b[0m         train,\n\u001b[0;32m    136\u001b[0m         test,\n\u001b[1;32m   (...)\u001b[0m\n\u001b[0;32m    139\u001b[0m         normalization\u001b[38;5;241m=\u001b[39mdata_normalization\n\u001b[0;32m    140\u001b[0m     )\n\u001b[0;32m    142\u001b[0m     univariate \u001b[38;5;241m=\u001b[39m \u001b[38;5;28;01mFalse\u001b[39;00m\n\u001b[1;32m--> 144\u001b[0m     df \u001b[38;5;241m=\u001b[39m \u001b[43mevaluate_methods\u001b[49m\u001b[43m(\u001b[49m\n\u001b[0;32m    145\u001b[0m \u001b[43m        \u001b[49m\u001b[43mdata3D\u001b[49m\u001b[43m,\u001b[49m\n\u001b[0;32m    146\u001b[0m \u001b[43m        \u001b[49m\u001b[43mmethods\u001b[49m\u001b[43m,\u001b[49m\n\u001b[0;32m    147\u001b[0m \u001b[43m        \u001b[49m\u001b[43mtrain\u001b[49m\u001b[43m,\u001b[49m\n\u001b[0;32m    148\u001b[0m \u001b[43m        \u001b[49m\u001b[43mtest\u001b[49m\u001b[43m,\u001b[49m\n\u001b[0;32m    149\u001b[0m \u001b[43m        \u001b[49m\u001b[43mlabels\u001b[49m\u001b[43m,\u001b[49m\n\u001b[0;32m    150\u001b[0m \u001b[43m        \u001b[49m\u001b[43mscore_normalization\u001b[49m\u001b[38;5;241;43m=\u001b[39;49m\u001b[43mscore_normalization\u001b[49m\u001b[43m,\u001b[49m\n\u001b[0;32m    151\u001b[0m \u001b[43m        \u001b[49m\u001b[43meval_method\u001b[49m\u001b[38;5;241;43m=\u001b[39;49m\u001b[43meval_method\u001b[49m\u001b[43m,\u001b[49m\n\u001b[0;32m    152\u001b[0m \u001b[43m        \u001b[49m\u001b[43munivariate\u001b[49m\u001b[38;5;241;43m=\u001b[39;49m\u001b[43munivariate\u001b[49m\u001b[43m,\u001b[49m\n\u001b[0;32m    153\u001b[0m \u001b[43m        \u001b[49m\u001b[43mverbose\u001b[49m\u001b[38;5;241;43m=\u001b[39;49m\u001b[43mverbose\u001b[49m\n\u001b[0;32m    154\u001b[0m \u001b[43m    \u001b[49m\u001b[43m)\u001b[49m\n\u001b[0;32m    155\u001b[0m \u001b[38;5;28;01melif\u001b[39;00m series_are_split_in_traces:\n\u001b[0;32m    156\u001b[0m     df \u001b[38;5;241m=\u001b[39m []\n",
      "File \u001b[1;32m~\\OneDrive\\Desktop\\quovadis\\QuoVadisTAD\\quovadis_tad\\evaluation\\evaluation.py:45\u001b[0m, in \u001b[0;36mevaluate_methods\u001b[1;34m(data3D, methods, train_array, test_array, labels, score_normalization, eval_method, univariate, verbose)\u001b[0m\n\u001b[0;32m     43\u001b[0m \u001b[38;5;28;01mfor\u001b[39;00m name, method \u001b[38;5;129;01min\u001b[39;00m methods\u001b[38;5;241m.\u001b[39mitems():\n\u001b[0;32m     44\u001b[0m     method\u001b[38;5;241m.\u001b[39mfit(train_array, verbose\u001b[38;5;241m=\u001b[39mverbose, univariate\u001b[38;5;241m=\u001b[39munivariate)\n\u001b[1;32m---> 45\u001b[0m     anomaly_scores \u001b[38;5;241m=\u001b[39m \u001b[43mmethod\u001b[49m\u001b[38;5;241;43m.\u001b[39;49m\u001b[43mtransform\u001b[49m\u001b[43m(\u001b[49m\u001b[43mtest_array\u001b[49m\u001b[43m)\u001b[49m\n\u001b[0;32m     47\u001b[0m     \u001b[38;5;28;01mif\u001b[39;00m data3D:\n\u001b[0;32m     48\u001b[0m         anomaly_scores\u001b[38;5;241m=\u001b[39manomaly_scores\u001b[38;5;241m.\u001b[39mflatten()\n",
      "File \u001b[1;32m~\\OneDrive\\Desktop\\quovadis\\QuoVadisTAD\\quovadis_tad\\baselines\\simple_baselines_3D.py:58\u001b[0m, in \u001b[0;36mNNDistance_3D.transform\u001b[1;34m(self, x)\u001b[0m\n\u001b[0;32m     55\u001b[0m train_batch \u001b[38;5;241m=\u001b[39m \u001b[38;5;28mself\u001b[39m\u001b[38;5;241m.\u001b[39mtrain_data[train_batch_idx]  \u001b[38;5;66;03m# Shape: [num_train_samples, num_features]\u001b[39;00m\n\u001b[0;32m     57\u001b[0m \u001b[38;5;66;03m# Compute pairwise distances between the current test batch and train batch\u001b[39;00m\n\u001b[1;32m---> 58\u001b[0m neighbor_distances \u001b[38;5;241m=\u001b[39m \u001b[43mmetrics\u001b[49m\u001b[38;5;241;43m.\u001b[39;49m\u001b[43mpairwise\u001b[49m\u001b[38;5;241;43m.\u001b[39;49m\u001b[43mpairwise_distances\u001b[49m\u001b[43m(\u001b[49m\n\u001b[0;32m     59\u001b[0m \u001b[43m    \u001b[49m\u001b[43mtest_batch\u001b[49m\u001b[43m,\u001b[49m\n\u001b[0;32m     60\u001b[0m \u001b[43m    \u001b[49m\u001b[43mtrain_batch\u001b[49m\u001b[43m,\u001b[49m\n\u001b[0;32m     61\u001b[0m \u001b[43m    \u001b[49m\u001b[43mmetric\u001b[49m\u001b[38;5;241;43m=\u001b[39;49m\u001b[38;5;28;43mself\u001b[39;49m\u001b[38;5;241;43m.\u001b[39;49m\u001b[43mdistance\u001b[49m\n\u001b[0;32m     62\u001b[0m \u001b[43m\u001b[49m\u001b[43m)\u001b[49m\n\u001b[0;32m     64\u001b[0m \u001b[38;5;66;03m# Update the minimum distances for this test batch\u001b[39;00m\n\u001b[0;32m     65\u001b[0m min_distances[test_batch_idx] \u001b[38;5;241m=\u001b[39m np\u001b[38;5;241m.\u001b[39mminimum(min_distances[test_batch_idx],\n\u001b[0;32m     66\u001b[0m                                            neighbor_distances\u001b[38;5;241m.\u001b[39mmin(axis\u001b[38;5;241m=\u001b[39m\u001b[38;5;241m1\u001b[39m))\n",
      "File \u001b[1;32m~\\Desktop\\miniconda3\\envs\\quovadis\\lib\\site-packages\\sklearn\\utils\\_param_validation.py:213\u001b[0m, in \u001b[0;36mvalidate_params.<locals>.decorator.<locals>.wrapper\u001b[1;34m(*args, **kwargs)\u001b[0m\n\u001b[0;32m    207\u001b[0m \u001b[38;5;28;01mtry\u001b[39;00m:\n\u001b[0;32m    208\u001b[0m     \u001b[38;5;28;01mwith\u001b[39;00m config_context(\n\u001b[0;32m    209\u001b[0m         skip_parameter_validation\u001b[38;5;241m=\u001b[39m(\n\u001b[0;32m    210\u001b[0m             prefer_skip_nested_validation \u001b[38;5;129;01mor\u001b[39;00m global_skip_validation\n\u001b[0;32m    211\u001b[0m         )\n\u001b[0;32m    212\u001b[0m     ):\n\u001b[1;32m--> 213\u001b[0m         \u001b[38;5;28;01mreturn\u001b[39;00m func(\u001b[38;5;241m*\u001b[39margs, \u001b[38;5;241m*\u001b[39m\u001b[38;5;241m*\u001b[39mkwargs)\n\u001b[0;32m    214\u001b[0m \u001b[38;5;28;01mexcept\u001b[39;00m InvalidParameterError \u001b[38;5;28;01mas\u001b[39;00m e:\n\u001b[0;32m    215\u001b[0m     \u001b[38;5;66;03m# When the function is just a wrapper around an estimator, we allow\u001b[39;00m\n\u001b[0;32m    216\u001b[0m     \u001b[38;5;66;03m# the function to delegate validation to the estimator, but we replace\u001b[39;00m\n\u001b[0;32m    217\u001b[0m     \u001b[38;5;66;03m# the name of the estimator by the name of the function in the error\u001b[39;00m\n\u001b[0;32m    218\u001b[0m     \u001b[38;5;66;03m# message to avoid confusion.\u001b[39;00m\n\u001b[0;32m    219\u001b[0m     msg \u001b[38;5;241m=\u001b[39m re\u001b[38;5;241m.\u001b[39msub(\n\u001b[0;32m    220\u001b[0m         \u001b[38;5;124mr\u001b[39m\u001b[38;5;124m\"\u001b[39m\u001b[38;5;124mparameter of \u001b[39m\u001b[38;5;124m\\\u001b[39m\u001b[38;5;124mw+ must be\u001b[39m\u001b[38;5;124m\"\u001b[39m,\n\u001b[0;32m    221\u001b[0m         \u001b[38;5;124mf\u001b[39m\u001b[38;5;124m\"\u001b[39m\u001b[38;5;124mparameter of \u001b[39m\u001b[38;5;132;01m{\u001b[39;00mfunc\u001b[38;5;241m.\u001b[39m\u001b[38;5;18m__qualname__\u001b[39m\u001b[38;5;132;01m}\u001b[39;00m\u001b[38;5;124m must be\u001b[39m\u001b[38;5;124m\"\u001b[39m,\n\u001b[0;32m    222\u001b[0m         \u001b[38;5;28mstr\u001b[39m(e),\n\u001b[0;32m    223\u001b[0m     )\n",
      "File \u001b[1;32m~\\Desktop\\miniconda3\\envs\\quovadis\\lib\\site-packages\\sklearn\\metrics\\pairwise.py:2331\u001b[0m, in \u001b[0;36mpairwise_distances\u001b[1;34m(X, Y, metric, n_jobs, force_all_finite, **kwds)\u001b[0m\n\u001b[0;32m   2328\u001b[0m         \u001b[38;5;28;01mreturn\u001b[39;00m distance\u001b[38;5;241m.\u001b[39msquareform(distance\u001b[38;5;241m.\u001b[39mpdist(X, metric\u001b[38;5;241m=\u001b[39mmetric, \u001b[38;5;241m*\u001b[39m\u001b[38;5;241m*\u001b[39mkwds))\n\u001b[0;32m   2329\u001b[0m     func \u001b[38;5;241m=\u001b[39m partial(distance\u001b[38;5;241m.\u001b[39mcdist, metric\u001b[38;5;241m=\u001b[39mmetric, \u001b[38;5;241m*\u001b[39m\u001b[38;5;241m*\u001b[39mkwds)\n\u001b[1;32m-> 2331\u001b[0m \u001b[38;5;28;01mreturn\u001b[39;00m _parallel_pairwise(X, Y, func, n_jobs, \u001b[38;5;241m*\u001b[39m\u001b[38;5;241m*\u001b[39mkwds)\n",
      "File \u001b[1;32m~\\Desktop\\miniconda3\\envs\\quovadis\\lib\\site-packages\\sklearn\\metrics\\pairwise.py:1871\u001b[0m, in \u001b[0;36m_parallel_pairwise\u001b[1;34m(X, Y, func, n_jobs, **kwds)\u001b[0m\n\u001b[0;32m   1868\u001b[0m X, Y, dtype \u001b[38;5;241m=\u001b[39m _return_float_dtype(X, Y)\n\u001b[0;32m   1870\u001b[0m \u001b[38;5;28;01mif\u001b[39;00m effective_n_jobs(n_jobs) \u001b[38;5;241m==\u001b[39m \u001b[38;5;241m1\u001b[39m:\n\u001b[1;32m-> 1871\u001b[0m     \u001b[38;5;28;01mreturn\u001b[39;00m func(X, Y, \u001b[38;5;241m*\u001b[39m\u001b[38;5;241m*\u001b[39mkwds)\n\u001b[0;32m   1873\u001b[0m \u001b[38;5;66;03m# enforce a threading backend to prevent data communication overhead\u001b[39;00m\n\u001b[0;32m   1874\u001b[0m fd \u001b[38;5;241m=\u001b[39m delayed(_dist_wrapper)\n",
      "File \u001b[1;32m~\\Desktop\\miniconda3\\envs\\quovadis\\lib\\site-packages\\sklearn\\utils\\_param_validation.py:186\u001b[0m, in \u001b[0;36mvalidate_params.<locals>.decorator.<locals>.wrapper\u001b[1;34m(*args, **kwargs)\u001b[0m\n\u001b[0;32m    184\u001b[0m global_skip_validation \u001b[38;5;241m=\u001b[39m get_config()[\u001b[38;5;124m\"\u001b[39m\u001b[38;5;124mskip_parameter_validation\u001b[39m\u001b[38;5;124m\"\u001b[39m]\n\u001b[0;32m    185\u001b[0m \u001b[38;5;28;01mif\u001b[39;00m global_skip_validation:\n\u001b[1;32m--> 186\u001b[0m     \u001b[38;5;28;01mreturn\u001b[39;00m func(\u001b[38;5;241m*\u001b[39margs, \u001b[38;5;241m*\u001b[39m\u001b[38;5;241m*\u001b[39mkwargs)\n\u001b[0;32m    188\u001b[0m func_sig \u001b[38;5;241m=\u001b[39m signature(func)\n\u001b[0;32m    190\u001b[0m \u001b[38;5;66;03m# Map *args/**kwargs to the function signature\u001b[39;00m\n",
      "File \u001b[1;32m~\\Desktop\\miniconda3\\envs\\quovadis\\lib\\site-packages\\sklearn\\metrics\\pairwise.py:347\u001b[0m, in \u001b[0;36meuclidean_distances\u001b[1;34m(X, Y, Y_norm_squared, squared, X_norm_squared)\u001b[0m\n\u001b[0;32m    341\u001b[0m     \u001b[38;5;28;01mif\u001b[39;00m Y_norm_squared\u001b[38;5;241m.\u001b[39mshape \u001b[38;5;241m!=\u001b[39m (\u001b[38;5;241m1\u001b[39m, Y\u001b[38;5;241m.\u001b[39mshape[\u001b[38;5;241m0\u001b[39m]):\n\u001b[0;32m    342\u001b[0m         \u001b[38;5;28;01mraise\u001b[39;00m \u001b[38;5;167;01mValueError\u001b[39;00m(\n\u001b[0;32m    343\u001b[0m             \u001b[38;5;124mf\u001b[39m\u001b[38;5;124m\"\u001b[39m\u001b[38;5;124mIncompatible dimensions for Y of shape \u001b[39m\u001b[38;5;132;01m{\u001b[39;00mY\u001b[38;5;241m.\u001b[39mshape\u001b[38;5;132;01m}\u001b[39;00m\u001b[38;5;124m and \u001b[39m\u001b[38;5;124m\"\u001b[39m\n\u001b[0;32m    344\u001b[0m             \u001b[38;5;124mf\u001b[39m\u001b[38;5;124m\"\u001b[39m\u001b[38;5;124mY_norm_squared of shape \u001b[39m\u001b[38;5;132;01m{\u001b[39;00moriginal_shape\u001b[38;5;132;01m}\u001b[39;00m\u001b[38;5;124m.\u001b[39m\u001b[38;5;124m\"\u001b[39m\n\u001b[0;32m    345\u001b[0m         )\n\u001b[1;32m--> 347\u001b[0m \u001b[38;5;28;01mreturn\u001b[39;00m \u001b[43m_euclidean_distances\u001b[49m\u001b[43m(\u001b[49m\u001b[43mX\u001b[49m\u001b[43m,\u001b[49m\u001b[43m \u001b[49m\u001b[43mY\u001b[49m\u001b[43m,\u001b[49m\u001b[43m \u001b[49m\u001b[43mX_norm_squared\u001b[49m\u001b[43m,\u001b[49m\u001b[43m \u001b[49m\u001b[43mY_norm_squared\u001b[49m\u001b[43m,\u001b[49m\u001b[43m \u001b[49m\u001b[43msquared\u001b[49m\u001b[43m)\u001b[49m\n",
      "File \u001b[1;32m~\\Desktop\\miniconda3\\envs\\quovadis\\lib\\site-packages\\sklearn\\metrics\\pairwise.py:379\u001b[0m, in \u001b[0;36m_euclidean_distances\u001b[1;34m(X, Y, X_norm_squared, Y_norm_squared, squared)\u001b[0m\n\u001b[0;32m    374\u001b[0m         YY \u001b[38;5;241m=\u001b[39m \u001b[38;5;28;01mNone\u001b[39;00m\n\u001b[0;32m    376\u001b[0m \u001b[38;5;28;01mif\u001b[39;00m X\u001b[38;5;241m.\u001b[39mdtype \u001b[38;5;241m==\u001b[39m np\u001b[38;5;241m.\u001b[39mfloat32 \u001b[38;5;129;01mor\u001b[39;00m Y\u001b[38;5;241m.\u001b[39mdtype \u001b[38;5;241m==\u001b[39m np\u001b[38;5;241m.\u001b[39mfloat32:\n\u001b[0;32m    377\u001b[0m     \u001b[38;5;66;03m# To minimize precision issues with float32, we compute the distance\u001b[39;00m\n\u001b[0;32m    378\u001b[0m     \u001b[38;5;66;03m# matrix on chunks of X and Y upcast to float64\u001b[39;00m\n\u001b[1;32m--> 379\u001b[0m     distances \u001b[38;5;241m=\u001b[39m \u001b[43m_euclidean_distances_upcast\u001b[49m\u001b[43m(\u001b[49m\u001b[43mX\u001b[49m\u001b[43m,\u001b[49m\u001b[43m \u001b[49m\u001b[43mXX\u001b[49m\u001b[43m,\u001b[49m\u001b[43m \u001b[49m\u001b[43mY\u001b[49m\u001b[43m,\u001b[49m\u001b[43m \u001b[49m\u001b[43mYY\u001b[49m\u001b[43m)\u001b[49m\n\u001b[0;32m    380\u001b[0m \u001b[38;5;28;01melse\u001b[39;00m:\n\u001b[0;32m    381\u001b[0m     \u001b[38;5;66;03m# if dtype is already float64, no need to chunk and upcast\u001b[39;00m\n\u001b[0;32m    382\u001b[0m     distances \u001b[38;5;241m=\u001b[39m \u001b[38;5;241m-\u001b[39m\u001b[38;5;241m2\u001b[39m \u001b[38;5;241m*\u001b[39m safe_sparse_dot(X, Y\u001b[38;5;241m.\u001b[39mT, dense_output\u001b[38;5;241m=\u001b[39m\u001b[38;5;28;01mTrue\u001b[39;00m)\n",
      "File \u001b[1;32m~\\Desktop\\miniconda3\\envs\\quovadis\\lib\\site-packages\\sklearn\\metrics\\pairwise.py:595\u001b[0m, in \u001b[0;36m_euclidean_distances_upcast\u001b[1;34m(X, XX, Y, YY, batch_size)\u001b[0m\n\u001b[0;32m    592\u001b[0m             d \u001b[38;5;241m+\u001b[39m\u001b[38;5;241m=\u001b[39m XX_chunk\n\u001b[0;32m    593\u001b[0m             d \u001b[38;5;241m+\u001b[39m\u001b[38;5;241m=\u001b[39m YY_chunk\n\u001b[1;32m--> 595\u001b[0m         distances[x_slice, y_slice] \u001b[38;5;241m=\u001b[39m d\u001b[38;5;241m.\u001b[39mastype(np\u001b[38;5;241m.\u001b[39mfloat32, copy\u001b[38;5;241m=\u001b[39m\u001b[38;5;28;01mFalse\u001b[39;00m)\n\u001b[0;32m    597\u001b[0m \u001b[38;5;28;01mreturn\u001b[39;00m distances\n",
      "\u001b[1;31mKeyboardInterrupt\u001b[0m: "
     ]
    }
   ],
   "source": [
    "df_std = evaluate_simple_baselines_on_all_paper_datasets(\n",
    "    root_path=module_path,\n",
    "    dataset_names=['ourBench'],  # provide one or more dataset names e.g ['swat', 'wadi_127', 'wadi_112', 'smd', 'ucr_IB'], see dataset_reader enum.\n",
    "    data_normalization=\"0-1\",              \n",
    "    eval_method='point_wise',\n",
    "    score_normalization='optimal',  # Will only return the scores for the optimal score normalization method.\n",
    "    verbose=False\n",
    ")"
   ]
  },
  {
   "cell_type": "code",
   "execution_count": 5,
   "id": "9af57b5b-fb7a-40df-ba05-25cb8d8bab8a",
   "metadata": {},
   "outputs": [
    {
     "data": {
      "text/html": [
       "<style type=\"text/css\">\n",
       "#T_fbd71_row0_col0, #T_fbd71_row0_col1, #T_fbd71_row0_col3, #T_fbd71_row1_col2, #T_fbd71_row2_col2 {\n",
       "  color: white;\n",
       "  background-color: darkblue;\n",
       "}\n",
       "</style>\n",
       "<table id=\"T_fbd71\">\n",
       "  <thead>\n",
       "    <tr>\n",
       "      <th class=\"blank level0\" >&nbsp;</th>\n",
       "      <th id=\"T_fbd71_level0_col0\" class=\"col_heading level0 col0\" colspan=\"4\">OURBENCH</th>\n",
       "    </tr>\n",
       "    <tr>\n",
       "      <th class=\"blank level1\" >&nbsp;</th>\n",
       "      <th id=\"T_fbd71_level1_col0\" class=\"col_heading level1 col0\" >F1</th>\n",
       "      <th id=\"T_fbd71_level1_col1\" class=\"col_heading level1 col1\" >P</th>\n",
       "      <th id=\"T_fbd71_level1_col2\" class=\"col_heading level1 col2\" >R</th>\n",
       "      <th id=\"T_fbd71_level1_col3\" class=\"col_heading level1 col3\" >AUPRC</th>\n",
       "    </tr>\n",
       "  </thead>\n",
       "  <tbody>\n",
       "    <tr>\n",
       "      <th id=\"T_fbd71_level0_row0\" class=\"row_heading level0 row0\" >1-NN Distance</th>\n",
       "      <td id=\"T_fbd71_row0_col0\" class=\"data row0 col0\" >0.941</td>\n",
       "      <td id=\"T_fbd71_row0_col1\" class=\"data row0 col1\" >0.896</td>\n",
       "      <td id=\"T_fbd71_row0_col2\" class=\"data row0 col2\" >0.992</td>\n",
       "      <td id=\"T_fbd71_row0_col3\" class=\"data row0 col3\" >0.926</td>\n",
       "    </tr>\n",
       "    <tr>\n",
       "      <th id=\"T_fbd71_level0_row1\" class=\"row_heading level0 row1\" >Simple L2_norm</th>\n",
       "      <td id=\"T_fbd71_row1_col0\" class=\"data row1 col0\" >0.758</td>\n",
       "      <td id=\"T_fbd71_row1_col1\" class=\"data row1 col1\" >0.610</td>\n",
       "      <td id=\"T_fbd71_row1_col2\" class=\"data row1 col2\" >1.000</td>\n",
       "      <td id=\"T_fbd71_row1_col3\" class=\"data row1 col3\" >0.494</td>\n",
       "    </tr>\n",
       "    <tr>\n",
       "      <th id=\"T_fbd71_level0_row2\" class=\"row_heading level0 row2\" >Random</th>\n",
       "      <td id=\"T_fbd71_row2_col0\" class=\"data row2 col0\" >0.758</td>\n",
       "      <td id=\"T_fbd71_row2_col1\" class=\"data row2 col1\" >0.610</td>\n",
       "      <td id=\"T_fbd71_row2_col2\" class=\"data row2 col2\" >1.000</td>\n",
       "      <td id=\"T_fbd71_row2_col3\" class=\"data row2 col3\" >0.701</td>\n",
       "    </tr>\n",
       "  </tbody>\n",
       "</table>\n"
      ],
      "text/plain": [
       "<pandas.io.formats.style.Styler at 0x2788dcb1c60>"
      ]
     },
     "execution_count": 5,
     "metadata": {},
     "output_type": "execute_result"
    }
   ],
   "source": [
    "(\n",
    "    df_std\n",
    "    .style\n",
    "    .format(precision=3)\n",
    "    .apply(highlight_max, props='color:white;background-color:darkblue', axis=0)\n",
    ")"
   ]
  },
  {
   "cell_type": "code",
   "execution_count": 6,
   "id": "14343c40-452a-4c09-b34a-5740787a219f",
   "metadata": {},
   "outputs": [
    {
     "name": "stdout",
     "output_type": "stream",
     "text": [
      "Python executable: C:\\Users\\jhaja\\Desktop\\miniconda3\\envs\\quovadis\\python.exe\n"
     ]
    }
   ],
   "source": [
    "import sys\n",
    "import os\n",
    "print(\"Python executable:\", sys.executable)\n",
    "#print(\"Environment variables:\", os.environ)"
   ]
  },
  {
   "cell_type": "markdown",
   "id": "cdadb11d-9bc6-44e8-8ab3-db2f6555c068",
   "metadata": {},
   "source": [
    "#### See the impact of different score normalisations"
   ]
  },
  {
   "cell_type": "code",
   "execution_count": 5,
   "id": "de2db466-c93a-495d-a3f7-6a55accf01dc",
   "metadata": {},
   "outputs": [
    {
     "name": "stdout",
     "output_type": "stream",
     "text": [
      "Number of train files: 27\n",
      "Number of test files: 27\n",
      "Number of label files: 27\n"
     ]
    }
   ],
   "source": [
    "df_std = evaluate_simple_baselines_on_all_paper_datasets(\n",
    "    root_path=module_path,\n",
    "    dataset_names=['ourBench'],\n",
    "    data_normalization=\"0-1\",              \n",
    "    eval_method='range_wise',\n",
    "    score_normalization='optimal',  #'all' Will return scores for all score normalization methods for baselines which return multiple outputs. In this case only PCA_Error.\n",
    "    verbose=False\n",
    ")"
   ]
  },
  {
   "cell_type": "code",
   "execution_count": 6,
   "id": "eb03b906-37f1-4d73-a990-aa635f70c984",
   "metadata": {},
   "outputs": [
    {
     "data": {
      "text/html": [
       "<style type=\"text/css\">\n",
       "#T_af678_row0_col0, #T_af678_row0_col1, #T_af678_row0_col3, #T_af678_row1_col2 {\n",
       "  color: white;\n",
       "  background-color: darkblue;\n",
       "}\n",
       "</style>\n",
       "<table id=\"T_af678\">\n",
       "  <thead>\n",
       "    <tr>\n",
       "      <th class=\"blank level0\" >&nbsp;</th>\n",
       "      <th id=\"T_af678_level0_col0\" class=\"col_heading level0 col0\" colspan=\"4\">OURBENCH</th>\n",
       "    </tr>\n",
       "    <tr>\n",
       "      <th class=\"blank level1\" >&nbsp;</th>\n",
       "      <th id=\"T_af678_level1_col0\" class=\"col_heading level1 col0\" >F1</th>\n",
       "      <th id=\"T_af678_level1_col1\" class=\"col_heading level1 col1\" >P</th>\n",
       "      <th id=\"T_af678_level1_col2\" class=\"col_heading level1 col2\" >R</th>\n",
       "      <th id=\"T_af678_level1_col3\" class=\"col_heading level1 col3\" >AUPRC</th>\n",
       "    </tr>\n",
       "  </thead>\n",
       "  <tbody>\n",
       "    <tr>\n",
       "      <th id=\"T_af678_level0_row0\" class=\"row_heading level0 row0\" >1-NN Distance</th>\n",
       "      <td id=\"T_af678_row0_col0\" class=\"data row0 col0\" >0.766</td>\n",
       "      <td id=\"T_af678_row0_col1\" class=\"data row0 col1\" >0.635</td>\n",
       "      <td id=\"T_af678_row0_col2\" class=\"data row0 col2\" >0.963</td>\n",
       "      <td id=\"T_af678_row0_col3\" class=\"data row0 col3\" >0.668</td>\n",
       "    </tr>\n",
       "    <tr>\n",
       "      <th id=\"T_af678_level0_row1\" class=\"row_heading level0 row1\" >Simple L2_norm</th>\n",
       "      <td id=\"T_af678_row1_col0\" class=\"data row1 col0\" >0.674</td>\n",
       "      <td id=\"T_af678_row1_col1\" class=\"data row1 col1\" >0.508</td>\n",
       "      <td id=\"T_af678_row1_col2\" class=\"data row1 col2\" >1.000</td>\n",
       "      <td id=\"T_af678_row1_col3\" class=\"data row1 col3\" >0.478</td>\n",
       "    </tr>\n",
       "    <tr>\n",
       "      <th id=\"T_af678_level0_row2\" class=\"row_heading level0 row2\" >Random</th>\n",
       "      <td id=\"T_af678_row2_col0\" class=\"data row2 col0\" >0.442</td>\n",
       "      <td id=\"T_af678_row2_col1\" class=\"data row2 col1\" >0.508</td>\n",
       "      <td id=\"T_af678_row2_col2\" class=\"data row2 col2\" >0.390</td>\n",
       "      <td id=\"T_af678_row2_col3\" class=\"data row2 col3\" >0.604</td>\n",
       "    </tr>\n",
       "  </tbody>\n",
       "</table>\n"
      ],
      "text/plain": [
       "<pandas.io.formats.style.Styler at 0x1ee2d0e1450>"
      ]
     },
     "execution_count": 6,
     "metadata": {},
     "output_type": "execute_result"
    }
   ],
   "source": [
    "(\n",
    "    df_std\n",
    "    .style\n",
    "    .format(precision=3)\n",
    "    .apply(highlight_max, props='color:white;background-color:darkblue', axis=0)\n",
    ")"
   ]
  },
  {
   "cell_type": "markdown",
   "id": "98b4a4ac-00fe-432c-a199-9bece91d5997",
   "metadata": {},
   "source": [
    "## Evaluate on all datasets - Point-Wise metrics\n",
    "Here we reproduce the point-wise F1 score of all simple baselines on all datasets."
   ]
  },
  {
   "cell_type": "code",
   "execution_count": null,
   "id": "17d7c04c-fbab-4e91-b3a6-fa425a3431e6",
   "metadata": {},
   "outputs": [],
   "source": [
    "df_point_wise = evaluate_simple_baselines_on_all_paper_datasets(\n",
    "    root_path=module_path,\n",
    "    dataset_names=None,\n",
    "    data_normalization=\"0-1\",              \n",
    "    eval_method='point_wise',  # \n",
    "    score_normalization='optimal',\n",
    "    verbose=True\n",
    ")"
   ]
  },
  {
   "cell_type": "code",
   "execution_count": null,
   "id": "86c4e3d7-fc86-4385-960c-e74dd449ce7f",
   "metadata": {},
   "outputs": [],
   "source": [
    "(\n",
    "    df_point_wise\n",
    "    .style\n",
    "    .format(precision=3)\n",
    "    .apply(highlight_max, props='color:white;background-color:darkblue', axis=0)\n",
    ")"
   ]
  },
  {
   "cell_type": "code",
   "execution_count": null,
   "id": "4fe0c1ed-8ee5-4159-b963-13e0c7e4edc4",
   "metadata": {},
   "outputs": [],
   "source": [
    "(\n",
    "    df_point_wise\n",
    "    .drop(['P', 'R','AUPRC'], axis=1, level=1)\n",
    "    .style\n",
    "    .format(precision=3)\n",
    "    .apply(highlight_max, props='color:white;background-color:darkblue', axis=0)\n",
    ")"
   ]
  },
  {
   "cell_type": "markdown",
   "id": "8a181029-3091-48b9-9381-e807136432fd",
   "metadata": {},
   "source": [
    "## Evaluate all datasets - Range-Wise metrics\n",
    "Here we reproduce the range-wise scores of all simple baselines on all datasets."
   ]
  },
  {
   "cell_type": "code",
   "execution_count": null,
   "id": "7987c9c8-9a02-4e81-8649-fa53dd1f582e",
   "metadata": {},
   "outputs": [],
   "source": [
    "df_range_wise = evaluate_simple_baselines_on_all_paper_datasets(\n",
    "    root_path=module_path,\n",
    "    dataset_names=None,\n",
    "    data_normalization=\"0-1\",\n",
    "    eval_method='range_wise',\n",
    "    score_normalization='optimal',\n",
    "    verbose=True\n",
    ")"
   ]
  },
  {
   "cell_type": "code",
   "execution_count": null,
   "id": "46274baf-e77d-4982-bfb3-62b0f6b5a733",
   "metadata": {},
   "outputs": [],
   "source": [
    "(\n",
    "    df_range_wise\n",
    "    .style\n",
    "    .format(precision=3)\n",
    "    .apply(highlight_max, props='color:white;background-color:darkblue', axis=0)\n",
    ")"
   ]
  },
  {
   "cell_type": "code",
   "execution_count": null,
   "id": "40ca7aab-ca83-40c6-ad64-8195daf7b8be",
   "metadata": {},
   "outputs": [],
   "source": [
    "(\n",
    "    df_range_wise\n",
    "    .drop(['P', 'R','AUPRC'], axis=1, level=1)\n",
    "    .style\n",
    "    .format(precision=3)\n",
    "    .apply(highlight_max, props='color:white;background-color:darkblue', axis=0)\n",
    ")"
   ]
  },
  {
   "cell_type": "code",
   "execution_count": null,
   "id": "1c232010-4ef6-4634-92cb-2c68ee189090",
   "metadata": {},
   "outputs": [],
   "source": []
  }
 ],
 "metadata": {
  "kernelspec": {
   "display_name": "Python 3 (ipykernel)",
   "language": "python",
   "name": "python3"
  },
  "language_info": {
   "codemirror_mode": {
    "name": "ipython",
    "version": 3
   },
   "file_extension": ".py",
   "mimetype": "text/x-python",
   "name": "python",
   "nbconvert_exporter": "python",
   "pygments_lexer": "ipython3",
   "version": "3.10.14"
  }
 },
 "nbformat": 4,
 "nbformat_minor": 5
}
