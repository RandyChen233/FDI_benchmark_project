{
 "cells": [
  {
   "cell_type": "markdown",
   "id": "6f9c388b-ed77-41a5-b007-ee62f2110901",
   "metadata": {},
   "source": [
    "# Simple baselines example usage\n",
    "In this notebook we provide an example of applying different baselines on a synthetic dataset. This simulates the case where you want to benchmark your own dataset."
   ]
  },
  {
   "cell_type": "code",
   "execution_count": 1,
   "id": "4e78cff1",
   "metadata": {
    "collapsed": false,
    "jupyter": {
     "outputs_hidden": false
    },
    "pycharm": {
     "name": "#%%\n"
    }
   },
   "outputs": [],
   "source": [
    "%load_ext autoreload\n",
    "%autoreload 2"
   ]
  },
  {
   "cell_type": "code",
   "execution_count": 2,
   "id": "21425f9b",
   "metadata": {
    "collapsed": false,
    "jupyter": {
     "outputs_hidden": false
    },
    "pycharm": {
     "name": "#%%\n"
    }
   },
   "outputs": [],
   "source": [
    "import sys\n",
    "from pathlib import Path\n",
    "module_path = str(Path.cwd().parents[0])\n",
    "if module_path not in sys.path:\n",
    "    sys.path.append(module_path)"
   ]
  },
  {
   "cell_type": "code",
   "execution_count": 3,
   "id": "b8e6c86f-e8bb-40c8-8136-89d5e6698445",
   "metadata": {
    "tags": []
   },
   "outputs": [],
   "source": [
    "import numpy as np\n",
    "import matplotlib.pyplot as plt\n",
    "from scipy import stats\n",
    "\n",
    "from quovadis_tad.baselines import simple_baselines\n",
    "from quovadis_tad.evaluation.evaluation import evaluate_methods_on_datasets\n",
    "from quovadis_tad.dataset_utils.data_utils import preprocess_data\n",
    "from quovadis_tad.dataset_utils.data_utils import normalise_scores\n",
    "\n",
    "from quovadis_tad.dataset_utils.synthetic_series import synthetic_dataset_with_out_of_range_anomalies, plot_series_and_predictions"
   ]
  },
  {
   "cell_type": "markdown",
   "id": "a2317c40-21d1-4b8c-9260-ec65c992eed6",
   "metadata": {},
   "source": [
    "## Generate the synthetic dataset and check the test data."
   ]
  },
  {
   "cell_type": "code",
   "execution_count": 4,
   "id": "180be90c-ef05-4952-b284-9dfe54e7a437",
   "metadata": {},
   "outputs": [],
   "source": [
    "data, anomaly_locations = synthetic_dataset_with_out_of_range_anomalies(\n",
    "    number_of_sensors=5,\n",
    "    ratio_of_anomalous_sensors=0.5\n",
    ")"
   ]
  },
  {
   "cell_type": "code",
   "execution_count": 5,
   "id": "df63a9e4-4d31-48a9-b209-b29284db4503",
   "metadata": {},
   "outputs": [],
   "source": [
    "plot_series_and_predictions(\n",
    "    series=data['test'], \n",
    "    gt_anomaly_intervals=anomaly_locations,\n",
    ")"
   ]
  },
  {
   "cell_type": "markdown",
   "id": "1a4cb3d8-6b6a-419a-8e75-f19e7bcb4e03",
   "metadata": {},
   "source": [
    "## Evaluate the baselines"
   ]
  },
  {
   "cell_type": "code",
   "execution_count": 6,
   "id": "e3e49656-f661-464a-a415-815f4d92c658",
   "metadata": {},
   "outputs": [],
   "source": [
    "baselines_dict = {\n",
    "    'Simple L2_norm': simple_baselines.LNorm(ord=2),\n",
    "    'PCA_Error': simple_baselines.PCAError(pca_dim='auto', svd_solver='full')\n",
    "}"
   ]
  },
  {
   "cell_type": "code",
   "execution_count": 7,
   "id": "845d79ad-9ccd-4042-b827-c0138d4b3c96",
   "metadata": {},
   "outputs": [
    {
     "name": "stdout",
     "output_type": "stream",
     "text": [
      "Adjusting estimated number of PCA components from 10 to 2.\n"
     ]
    }
   ],
   "source": [
    "scores_df = evaluate_methods_on_datasets(\n",
    "    methods=baselines_dict,\n",
    "    datasets={'synthetic': data},\n",
    "    data_normalization='0-1',\n",
    "    score_normalization='optimal',\n",
    "    eval_method='point_wise',\n",
    "    verbose=False\n",
    ")"
   ]
  },
  {
   "cell_type": "code",
   "execution_count": 8,
   "id": "2a007075-83aa-4bfe-8a12-cc6328920669",
   "metadata": {},
   "outputs": [
    {
     "data": {
      "text/html": [
       "<style type=\"text/css\">\n",
       "#T_84e3c_row0_col1, #T_84e3c_row0_col3, #T_84e3c_row1_col0, #T_84e3c_row1_col2 {\n",
       "  color: white;\n",
       "  background-color: darkblue;\n",
       "}\n",
       "</style>\n",
       "<table id=\"T_84e3c\">\n",
       "  <thead>\n",
       "    <tr>\n",
       "      <th class=\"blank level0\" >&nbsp;</th>\n",
       "      <th id=\"T_84e3c_level0_col0\" class=\"col_heading level0 col0\" colspan=\"4\">synthetic</th>\n",
       "    </tr>\n",
       "    <tr>\n",
       "      <th class=\"blank level1\" >&nbsp;</th>\n",
       "      <th id=\"T_84e3c_level1_col0\" class=\"col_heading level1 col0\" >F1</th>\n",
       "      <th id=\"T_84e3c_level1_col1\" class=\"col_heading level1 col1\" >P</th>\n",
       "      <th id=\"T_84e3c_level1_col2\" class=\"col_heading level1 col2\" >R</th>\n",
       "      <th id=\"T_84e3c_level1_col3\" class=\"col_heading level1 col3\" >AUPRC</th>\n",
       "    </tr>\n",
       "  </thead>\n",
       "  <tbody>\n",
       "    <tr>\n",
       "      <th id=\"T_84e3c_level0_row0\" class=\"row_heading level0 row0\" >Simple L2_norm</th>\n",
       "      <td id=\"T_84e3c_row0_col0\" class=\"data row0 col0\" >0.081</td>\n",
       "      <td id=\"T_84e3c_row0_col1\" class=\"data row0 col1\" >0.091</td>\n",
       "      <td id=\"T_84e3c_row0_col2\" class=\"data row0 col2\" >0.073</td>\n",
       "      <td id=\"T_84e3c_row0_col3\" class=\"data row0 col3\" >0.036</td>\n",
       "    </tr>\n",
       "    <tr>\n",
       "      <th id=\"T_84e3c_level0_row1\" class=\"row_heading level0 row1\" >PCA_Error</th>\n",
       "      <td id=\"T_84e3c_row1_col0\" class=\"data row1 col0\" >0.091</td>\n",
       "      <td id=\"T_84e3c_row1_col1\" class=\"data row1 col1\" >0.048</td>\n",
       "      <td id=\"T_84e3c_row1_col2\" class=\"data row1 col2\" >0.951</td>\n",
       "      <td id=\"T_84e3c_row1_col3\" class=\"data row1 col3\" >0.036</td>\n",
       "    </tr>\n",
       "  </tbody>\n",
       "</table>\n"
      ],
      "text/plain": [
       "<pandas.io.formats.style.Styler at 0x139fcf968f0>"
      ]
     },
     "execution_count": 8,
     "metadata": {},
     "output_type": "execute_result"
    }
   ],
   "source": [
    "def highlight_max(s, props=''):\n",
    "    return np.where(s == np.nanmax(s.values), props, '')\n",
    "(\n",
    "    scores_df\n",
    "    .style\n",
    "    .format(precision=3)\n",
    "    .apply(highlight_max, props='color:white;background-color:darkblue', axis=0)\n",
    ")"
   ]
  },
  {
   "cell_type": "markdown",
   "id": "161c6b42-d610-43ea-b359-62a7a52b3fc4",
   "metadata": {},
   "source": [
    "## Train the baselines on the data"
   ]
  },
  {
   "cell_type": "code",
   "execution_count": 9,
   "id": "2a269b32-bc9b-4516-a969-54f32c0de905",
   "metadata": {},
   "outputs": [],
   "source": [
    "# Preprocess the data.\n",
    "train, _, test = preprocess_data(\n",
    "    data['train'],\n",
    "    data['test'],\n",
    "    train_size=0.98,\n",
    "    val_size=0.02,\n",
    "    normalization='0-1'\n",
    ")"
   ]
  },
  {
   "cell_type": "code",
   "execution_count": 10,
   "id": "b97b36d7-5ba3-4d42-a80a-576806d79049",
   "metadata": {},
   "outputs": [],
   "source": [
    "# Initialize the methods.\n",
    "l2norm = simple_baselines.LNorm(ord=2)\n",
    "pca_error = simple_baselines.PCAError(pca_dim='auto', svd_solver='full')"
   ]
  },
  {
   "cell_type": "code",
   "execution_count": 11,
   "id": "66472234-2996-48b6-af15-c457500ff233",
   "metadata": {},
   "outputs": [
    {
     "name": "stdout",
     "output_type": "stream",
     "text": [
      "Adjusting estimated number of PCA components from 10 to 2.\n"
     ]
    }
   ],
   "source": [
    "# Train on the data and predict. L2-Norm needs not fitting.\n",
    "pca_error.fit(train)\n",
    "\n",
    "l2norm_preds = l2norm.transform(test)\n",
    "pca_error_preds = pca_error.transform(test)\n",
    "\n",
    "# Normalize the scores.\n",
    "l2norm_preds = normalise_scores(l2norm_preds, norm='median-iqr')\n",
    "pca_error_preds = normalise_scores(pca_error_preds, norm='median-iqr').max(1)"
   ]
  },
  {
   "cell_type": "markdown",
   "id": "6c14a367-020f-4248-89e7-677655dd9bb8",
   "metadata": {},
   "source": [
    "## Visualize the preditions"
   ]
  },
  {
   "cell_type": "code",
   "execution_count": 12,
   "id": "c7669708-ac33-4f4f-b478-6f6b26d0e476",
   "metadata": {},
   "outputs": [],
   "source": [
    "plot_series_and_predictions(\n",
    "    series=data['test'], \n",
    "    gt_anomaly_intervals=anomaly_locations,\n",
    "    predictions={\n",
    "        'L2 Norm': l2norm_preds,\n",
    "        'PCA Error': pca_error_preds,\n",
    "    },\n",
    "    prediction_ylim=(-2, 2)\n",
    ")"
   ]
  },
  {
   "cell_type": "code",
   "execution_count": 13,
   "id": "e4605957-9532-4d4b-b07e-67e86b4bd146",
   "metadata": {},
   "outputs": [
    {
     "name": "stdout",
     "output_type": "stream",
     "text": [
      "C:\\Users\\jhaja\\OneDrive\\Desktop\\quovadis\\QuoVadisTAD\n"
     ]
    }
   ],
   "source": [
    "print(module_path)"
   ]
  },
  {
   "cell_type": "code",
   "execution_count": 14,
   "id": "c1042ac2-a4e7-4e5d-91f4-23d48ca8db23",
   "metadata": {},
   "outputs": [
    {
     "name": "stdout",
     "output_type": "stream",
     "text": [
      "Python executable: C:\\Users\\jhaja\\Desktop\\miniconda3\\envs\\quovadis\\python.exe\n",
      "Environment variables: environ({'PLAT': 'win-amd64', 'POETRY_ACTIVE': '1', 'TERM_SESSION_ID': '37924d47-3c1f-4ec4-ad87-7367ea818414', 'COMMONPROGRAMW6432': 'C:\\\\Program Files\\\\Common Files', 'PROGRAMW6432': 'C:\\\\Program Files', 'PYCHARM': 'C:\\\\Program Files\\\\JetBrains\\\\PyCharm 2021.3.3\\\\bin;', 'CONDA_DEFAULT_ENV': 'quovadis', 'CONDA_SHLVL': '1', 'USERNAME': 'jhaja', 'ALLUSERSPROFILE': 'C:\\\\ProgramData', 'USERPROFILE': 'C:\\\\Users\\\\jhaja', 'PROCESSOR_REVISION': '7e05', 'IDEA_INITIAL_DIRECTORY': 'C:\\\\WINDOWS\\\\system32', 'FPS_BROWSER_APP_PROFILE_STRING': 'Internet Explorer', 'MOSEK_10_1_EXE': 'C:\\\\Program Files\\\\Mosek\\\\10.1\\\\tools\\\\platform\\\\win64x86\\\\bin\\\\mosek.exe', 'PUBLIC': 'C:\\\\Users\\\\Public', 'PATH': 'C:\\\\Users\\\\jhaja\\\\Desktop\\\\miniconda3\\\\envs\\\\quovadis;C:\\\\Users\\\\jhaja\\\\Desktop\\\\miniconda3\\\\envs\\\\quovadis\\\\Library\\\\mingw-w64\\\\bin;C:\\\\Users\\\\jhaja\\\\Desktop\\\\miniconda3\\\\envs\\\\quovadis\\\\Library\\\\usr\\\\bin;C:\\\\Users\\\\jhaja\\\\Desktop\\\\miniconda3\\\\envs\\\\quovadis\\\\Library\\\\bin;C:\\\\Users\\\\jhaja\\\\Desktop\\\\miniconda3\\\\envs\\\\quovadis\\\\Scripts;C:\\\\Users\\\\jhaja\\\\Desktop\\\\miniconda3\\\\envs\\\\quovadis\\\\bin;C:\\\\Users\\\\jhaja\\\\Desktop\\\\miniconda3\\\\condabin;C:\\\\Program Files (x86)\\\\KEBA\\\\KeStudio DriveManager-Package\\\\5.16.5.0\\\\Common\\\\Kernel-Visu\\\\Binaries;C:\\\\WINDOWS\\\\system32;C:\\\\WINDOWS;C:\\\\WINDOWS\\\\System32\\\\Wbem;C:\\\\WINDOWS\\\\System32\\\\WindowsPowerShell\\\\v1.0;C:\\\\WINDOWS\\\\System32\\\\OpenSSH;C:\\\\Program Files\\\\MATLAB\\\\R2021a\\\\runtime\\\\win64;C:\\\\Program Files\\\\MATLAB\\\\R2021a\\\\bin;C:\\\\Program Files\\\\Git\\\\cmd;C:\\\\Program Files\\\\TortoiseGit\\\\bin;C:\\\\Program Files\\\\PuTTY;C:\\\\Program Files\\\\CMake;C:\\\\Program Files\\\\dotnet;C:\\\\Program Files (x86)\\\\GnuWin32;C:\\\\ProgramData\\\\chocolatey\\\\bin;C:\\\\Users\\\\jhaja\\\\Downloads\\\\eigen-3.4.0;C:\\\\Program Files\\\\Mosek\\\\10.1\\\\tools\\\\platform\\\\win64x86\\\\bin;C:\\\\Users\\\\jhaja\\\\AppData\\\\Local\\\\Programs\\\\Python\\\\Python311\\\\Scripts;C:\\\\Users\\\\jhaja\\\\AppData\\\\Local\\\\Programs\\\\Python\\\\Python311;C:\\\\Users\\\\jhaja\\\\Desktop\\\\miniconda3;C:\\\\Users\\\\jhaja\\\\Desktop\\\\miniconda3\\\\Library\\\\mingw-w64\\\\bin;C:\\\\Users\\\\jhaja\\\\Desktop\\\\miniconda3\\\\Library\\\\usr\\\\bin;C:\\\\Users\\\\jhaja\\\\Desktop\\\\miniconda3\\\\Library\\\\bin;C:\\\\Users\\\\jhaja\\\\Desktop\\\\miniconda3\\\\Scripts;C:\\\\Users\\\\jhaja\\\\miniconda3;C:\\\\Users\\\\jhaja\\\\miniconda3\\\\Library\\\\mingw-w64\\\\bin;C:\\\\Users\\\\jhaja\\\\miniconda3\\\\Library\\\\usr\\\\bin;C:\\\\Users\\\\jhaja\\\\miniconda3\\\\Library\\\\bin;C:\\\\Users\\\\jhaja\\\\miniconda3\\\\Scripts;C:\\\\Users\\\\jhaja\\\\AppData\\\\Local\\\\Microsoft\\\\WindowsApps;C:\\\\Users\\\\jhaja\\\\AppData\\\\Roaming\\\\Microsoft\\\\Windows\\\\Start Menu\\\\Programs\\\\Miniconda3;C:\\\\Users\\\\jhaja\\\\AppData\\\\Local\\\\Programs\\\\MiKTeX\\\\miktex\\\\bin\\\\x64;C:\\\\Program Files\\\\JetBrains\\\\PyCharm 2021.3.3\\\\bin;C:\\\\Users\\\\jhaja\\\\AppData\\\\Local\\\\Programs\\\\Microsoft VS Code\\\\bin;C:\\\\Users\\\\jhaja\\\\.dotnet\\\\tools;C:\\\\Users\\\\jhaja\\\\AppData\\\\Local\\\\JetBrains\\\\Toolbox\\\\scripts;.', 'DRIVERDATA': 'C:\\\\Windows\\\\System32\\\\Drivers\\\\DriverData', 'HOMEDRIVE': 'C:', 'SESSIONNAME': 'Console', 'LOGONSERVER': '\\\\\\\\DESKTOP-4J0T2CC', 'TERMINAL_EMULATOR': 'JetBrains-JediTerm', 'CONDA_PREFIX': 'C:\\\\Users\\\\jhaja\\\\Desktop\\\\miniconda3\\\\envs\\\\quovadis', 'HOMEPATH': '\\\\Users\\\\jhaja', 'SYSTEMROOT': 'C:\\\\WINDOWS', 'CHOCOLATEYINSTALL': 'C:\\\\ProgramData\\\\chocolatey', 'LOCALAPPDATA': 'C:\\\\Users\\\\jhaja\\\\AppData\\\\Local', 'APPDATA': 'C:\\\\Users\\\\jhaja\\\\AppData\\\\Roaming', 'PROCESSOR_IDENTIFIER': 'Intel64 Family 6 Model 126 Stepping 5, GenuineIntel', 'PATHEXT': '.COM;.EXE;.BAT;.CMD;.VBS;.VBE;.JS;.JSE;.WSF;.WSH;.MSC;.CPL', 'PSMODULEPATH': 'C:\\\\Users\\\\jhaja\\\\OneDrive\\\\Documents\\\\WindowsPowerShell\\\\Modules;C:\\\\Program Files\\\\WindowsPowerShell\\\\Modules;C:\\\\WINDOWS\\\\system32\\\\WindowsPowerShell\\\\v1.0\\\\Modules', 'CONDA_PROMPT_MODIFIER': '(quovadis) ', 'PROGRAMFILES(X86)': 'C:\\\\Program Files (x86)', 'PROMPT': '(quovadis) $P$G', 'EFC_9660': '1', 'OS': 'Windows_NT', 'PROCESSOR_ARCHITECTURE': 'AMD64', 'NUMBER_OF_PROCESSORS': '8', 'COMSPEC': 'C:\\\\WINDOWS\\\\system32\\\\cmd.exe', 'PROCESSOR_LEVEL': '6', 'CLASSPATH': 'C:\\\\Program Files\\\\Mosek\\\\10.1\\\\tools\\\\platform\\\\win64x86\\\\bin\\\\mosek.jar', 'WINDIR': 'C:\\\\WINDOWS', 'USERDOMAIN_ROAMINGPROFILE': 'DESKTOP-4J0T2CC', 'PROGRAMFILES': 'C:\\\\Program Files', 'PYTHONPATH': 'C:\\\\msys64\\\\mingw64/lib/python3.9/', 'TEMP': 'C:\\\\Users\\\\jhaja\\\\AppData\\\\Local\\\\Temp', 'MOSEK_10_1_INSTALLDIR': 'C:\\\\Program Files\\\\Mosek\\\\10.1', 'TMP': 'C:\\\\Users\\\\jhaja\\\\AppData\\\\Local\\\\Temp', 'COMMONPROGRAMFILES(X86)': 'C:\\\\Program Files (x86)\\\\Common Files', 'ONEDRIVE': 'C:\\\\Users\\\\jhaja\\\\OneDrive', 'MOSEK_10_1_BINDIR': 'C:\\\\Program Files\\\\Mosek\\\\10.1\\\\tools\\\\platform\\\\win64x86\\\\bin', 'USERDOMAIN': 'DESKTOP-4J0T2CC', 'SYSTEMDRIVE': 'C:', 'COMPUTERNAME': 'DESKTOP-4J0T2CC', 'PROGRAMDATA': 'C:\\\\ProgramData', 'CHOCOLATEYLASTPATHUPDATE': '133283347793457153', 'FPS_BROWSER_USER_PROFILE_STRING': 'Default', 'COMMONPROGRAMFILES': 'C:\\\\Program Files\\\\Common Files', '__INTELLIJ_COMMAND_HISTFILE__': 'C:\\\\Users\\\\jhaja\\\\AppData\\\\Local\\\\JetBrains\\\\PyCharm2021.3\\\\terminal\\\\history\\\\quovadis-history', 'JPY_SESSION_NAME': 'C:\\\\Users\\\\jhaja\\\\OneDrive\\\\Desktop\\\\quovadis\\\\QuoVadisTAD\\\\notebooks\\\\simple_baselines_example_usage.ipynb', 'JPY_INTERRUPT_EVENT': '4204', 'IPY_INTERRUPT_EVENT': '4204', 'JPY_PARENT_PID': '4968', 'PYDEVD_USE_FRAME_EVAL': 'NO', 'TERM': 'xterm-color', 'CLICOLOR': '1', 'FORCE_COLOR': '1', 'CLICOLOR_FORCE': '1', 'PAGER': 'cat', 'GIT_PAGER': 'cat', 'MPLBACKEND': 'module://matplotlib_inline.backend_inline', 'KMP_DUPLICATE_LIB_OK': 'True', 'KMP_INIT_AT_FORK': 'FALSE'})\n"
     ]
    }
   ],
   "source": [
    "import sys\n",
    "import os\n",
    "print(\"Python executable:\", sys.executable)\n",
    "print(\"Environment variables:\", os.environ)"
   ]
  },
  {
   "cell_type": "code",
   "execution_count": null,
   "id": "62538ecc-d043-44bc-8bbc-cf513ddba633",
   "metadata": {},
   "outputs": [],
   "source": []
  }
 ],
 "metadata": {
  "kernelspec": {
   "display_name": "Python 3 (ipykernel)",
   "language": "python",
   "name": "python3"
  },
  "language_info": {
   "codemirror_mode": {
    "name": "ipython",
    "version": 3
   },
   "file_extension": ".py",
   "mimetype": "text/x-python",
   "name": "python",
   "nbconvert_exporter": "python",
   "pygments_lexer": "ipython3",
   "version": "3.10.14"
  }
 },
 "nbformat": 4,
 "nbformat_minor": 5
}
